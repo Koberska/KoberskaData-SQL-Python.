{
 "cells": [
  {
   "cell_type": "markdown",
   "id": "1bb2e436",
   "metadata": {},
   "source": [
    "średnia sugerowana cena sprzedaży ( MSRP) dla każdej linii produktowej"
   ]
  },
  {
   "cell_type": "code",
   "execution_count": null,
   "id": "bc529612",
   "metadata": {},
   "outputs": [],
   "source": [
    "select productline, avg(msrp)\n",
    "from products\n",
    "group by 1"
   ]
  }
 ],
 "metadata": {
  "kernelspec": {
   "display_name": "Python 3 (ipykernel)",
   "language": "python",
   "name": "python3"
  },
  "language_info": {
   "codemirror_mode": {
    "name": "ipython",
    "version": 3
   },
   "file_extension": ".py",
   "mimetype": "text/x-python",
   "name": "python",
   "nbconvert_exporter": "python",
   "pygments_lexer": "ipython3",
   "version": "3.11.5"
  }
 },
 "nbformat": 4,
 "nbformat_minor": 5
}
